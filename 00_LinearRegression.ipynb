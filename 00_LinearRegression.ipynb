{
  "nbformat": 4,
  "nbformat_minor": 0,
  "metadata": {
    "colab": {
      "name": "00_LinearRegression.ipynb",
      "provenance": [],
      "collapsed_sections": [],
      "authorship_tag": "ABX9TyOnq4JQVcr016d+9omTUEfH",
      "include_colab_link": true
    },
    "kernelspec": {
      "name": "python3",
      "display_name": "Python 3"
    },
    "language_info": {
      "name": "python"
    }
  },
  "cells": [
    {
      "cell_type": "markdown",
      "metadata": {
        "id": "view-in-github",
        "colab_type": "text"
      },
      "source": [
        "<a href=\"https://colab.research.google.com/github/soyounson/TIL_pytorch/blob/main/00_LinearRegression.ipynb\" target=\"_parent\"><img src=\"https://colab.research.google.com/assets/colab-badge.svg\" alt=\"Open In Colab\"/></a>"
      ]
    },
    {
      "cell_type": "markdown",
      "source": [
        "#선형회귀모델 신경망 w/ pytorch"
      ],
      "metadata": {
        "id": "RCCQ2ddFbWk8"
      }
    },
    {
      "cell_type": "code",
      "source": [
        "###################\n",
        "# load modules \n",
        "###################\n",
        "import torch \n",
        "import torch.nn as nn\n",
        "import torch.optim as optim\n",
        "\n",
        "import numpy as np\n",
        "import matplotlib.pyplot as plt\n",
        "plt.style.use('seaborn-white')"
      ],
      "metadata": {
        "id": "DjYhWj9CbfuD"
      },
      "execution_count": 42,
      "outputs": []
    },
    {
      "cell_type": "markdown",
      "source": [
        "##데이터 생성 및 회귀식 설정"
      ],
      "metadata": {
        "id": "pp00EfpwcdHC"
      }
    },
    {
      "cell_type": "code",
      "source": [
        "###################\n",
        "# Dataset\n",
        "###################\n",
        "#..... 100개의 random #\n",
        "X = torch.randn(100,1)*10\n",
        "y = X + 3*torch.randn(100,1)\n",
        "#..... visualize datasets\n",
        "plt.plot(X.numpy(),y.numpy(), 'o')\n",
        "plt.xlabel('X')\n",
        "plt.ylabel('y') \n",
        "plt.grid()\n",
        "plt.show()"
      ],
      "metadata": {
        "colab": {
          "base_uri": "https://localhost:8080/",
          "height": 278
        },
        "id": "LnEx6MWcccJt",
        "outputId": "188a839e-2b7b-46ca-e278-ee8de93b61dc"
      },
      "execution_count": 43,
      "outputs": [
        {
          "output_type": "display_data",
          "data": {
            "text/plain": [
              "<Figure size 432x288 with 1 Axes>"
            ],
            "image/png": "[encoded data removed]"
          },
          "metadata": {}
        }
      ]
    },
    {
      "cell_type": "markdown",
      "source": [
        "##신경망 구성 \n",
        "\n",
        "pytorch에서는 class를 define해줌"
      ],
      "metadata": {
        "id": "h-Iu_M1JdY4N"
      }
    },
    {
      "cell_type": "code",
      "source": [
        "class LinearRegressionModel(nn.Module): # module상속받음\n",
        "\n",
        " # layers 구성 \n",
        "  def __init__(self):\n",
        "    super(LinearRegressionModel,self).__init__()   \n",
        "    self.linear = nn.Linear(1,1) #linear layer만들어줌\n",
        "\n",
        "# 전체 architecture \n",
        "  def forward(self,x):\n",
        "    pred = self.linear(x)\n",
        "    return pred"
      ],
      "metadata": {
        "id": "zeK_u22zdaMi"
      },
      "execution_count": 44,
      "outputs": []
    },
    {
      "cell_type": "markdown",
      "source": [
        "##모델생성 및 파라미터 확인\n",
        "\n",
        "\n",
        "> **torch.manual_seed**       \n",
        "DL에서는 random num을 사용하는 경우가 많음 (초기화시)\n",
        "pytorch에서는 random seed를 고정하기위한 함수로 manual_seed 제공 \n",
        "\n",
        "ref           \n",
        "[1] https://rabo0313.tistory.com/96               \n",
        "[2] https://hoya012.github.io/blog/reproducible_pytorch/"
      ],
      "metadata": {
        "id": "AsSZzMCsixPX"
      }
    },
    {
      "cell_type": "code",
      "source": [
        "torch.manual_seed(111)   # 이건뭐지?\n",
        "#..... 모델 \n",
        "model = LinearRegressionModel()\n",
        "print(model)"
      ],
      "metadata": {
        "colab": {
          "base_uri": "https://localhost:8080/"
        },
        "id": "jd3ztFExjjkF",
        "outputId": "5425c592-44d1-4958-b7e7-bfcef28e5f90"
      },
      "execution_count": 45,
      "outputs": [
        {
          "output_type": "stream",
          "name": "stdout",
          "text": [
            "LinearRegressionModel(\n",
            "  (linear): Linear(in_features=1, out_features=1, bias=True)\n",
            ")\n"
          ]
        }
      ]
    },
    {
      "cell_type": "code",
      "source": [
        "#..... 구성되어 있는 파라미터 값들 확인 \n",
        "print(list(model.parameters()))"
      ],
      "metadata": {
        "colab": {
          "base_uri": "https://localhost:8080/"
        },
        "id": "70LBo-8okp-A",
        "outputId": "a3005e4e-bd44-408e-b1f2-e3d389c2b1c9"
      },
      "execution_count": 46,
      "outputs": [
        {
          "output_type": "stream",
          "name": "stdout",
          "text": [
            "[Parameter containing:\n",
            "tensor([[0.4311]], requires_grad=True), Parameter containing:\n",
            "tensor([0.8280], requires_grad=True)]\n"
          ]
        }
      ]
    },
    {
      "cell_type": "code",
      "source": [
        "#..... weight, bias 값 갖고올것 \n",
        "w, b = model.parameters()\n",
        "def get_params():\n",
        "  return w[0][0].item(), b[0].item()\n",
        "\n",
        "def plot_fit(title):\n",
        "  plt.title = title\n",
        "  w1, b1 = get_params()\n",
        "  #..... 학습 전 initial model \n",
        "  x1 = np.array([-30, 30])\n",
        "  y1 = w1*x1 + b1\n",
        "  plt.plot(x1,y1,'r')\n",
        "  plt.scatter(X,y)\n",
        "  plt.show()\n",
        "\n",
        "plot_fit('Initial Model')"
      ],
      "metadata": {
        "colab": {
          "base_uri": "https://localhost:8080/",
          "height": 264
        },
        "id": "aJH97rjLkzJi",
        "outputId": "6a4d14a0-b3df-4385-a033-3f0146fa32c4"
      },
      "execution_count": 47,
      "outputs": [
        {
          "output_type": "display_data",
          "data": {
            "text/plain": [
              "<Figure size 432x288 with 1 Axes>"
            ],
            "image/png": "[encoded data removed]"
          },
          "metadata": {}
        }
      ]
    },
    {
      "cell_type": "markdown",
      "source": [
        "##손실함수와 옵티마이져"
      ],
      "metadata": {
        "id": "K7oaDjkinbwc"
      }
    },
    {
      "cell_type": "code",
      "source": [
        "criterion = nn.MSELoss()\n",
        "optimizer = optim.SGD(model.parameters(), lr=0.001)"
      ],
      "metadata": {
        "id": "fTrpmRNknhd_"
      },
      "execution_count": 48,
      "outputs": []
    },
    {
      "cell_type": "markdown",
      "source": [
        "##모델학습"
      ],
      "metadata": {
        "id": "ESV2d1uOoBLl"
      }
    },
    {
      "cell_type": "code",
      "source": [
        "epochs = 100\n",
        "#..... loss 저장하게 list로 만듦\n",
        "losses = []\n",
        "for epoch in range(epochs):\n",
        "  #..... 일단 매개변수들을 0으로 만듦\n",
        "  optimizer.zero_grad()\n",
        "  \n",
        "  #.....예측값\n",
        "  y_pred = model(X)\n",
        "  #..... loss값 만들기 \n",
        "  loss = criterion(y_pred,y)\n",
        "  #..... loss에 append시킴\n",
        "  losses.append(loss)\n",
        "  loss.backward()\n",
        "\n",
        "  optimizer.step()\n",
        "\n",
        "  if epoch %10 == 0:\n",
        "    print('Epoch : {:3d}\\tloss: {:.4f}'.format(epoch+1,loss))"
      ],
      "metadata": {
        "colab": {
          "base_uri": "https://localhost:8080/"
        },
        "id": "BnIRApFzoFdv",
        "outputId": "96ecbb5a-e573-4df2-8060-8b79c500e883"
      },
      "execution_count": 49,
      "outputs": [
        {
          "output_type": "stream",
          "name": "stdout",
          "text": [
            "Epoch :   1\tloss: 47.0144\n",
            "Epoch :  11\tloss: 11.3691\n",
            "Epoch :  21\tloss: 11.1018\n",
            "Epoch :  31\tloss: 11.0481\n",
            "Epoch :  41\tloss: 10.9977\n",
            "Epoch :  51\tloss: 10.9493\n",
            "Epoch :  61\tloss: 10.9028\n",
            "Epoch :  71\tloss: 10.8581\n",
            "Epoch :  81\tloss: 10.8151\n",
            "Epoch :  91\tloss: 10.7739\n"
          ]
        }
      ]
    },
    {
      "cell_type": "markdown",
      "source": [
        "##시각화"
      ],
      "metadata": {
        "id": "hPKdI1bRtoVj"
      }
    },
    {
      "cell_type": "code",
      "source": [
        "#plt.plot(range(epochs),losses)\n",
        "#plt.ylabel('Loss')\n",
        "#plt.xlabel('Epoch')\n",
        "#plt.show() "
      ],
      "metadata": {
        "id": "MjvGljVctqDb"
      },
      "execution_count": 40,
      "outputs": []
    },
    {
      "cell_type": "code",
      "source": [
        "plot_fit('Trained Model')"
      ],
      "metadata": {
        "colab": {
          "base_uri": "https://localhost:8080/",
          "height": 262
        },
        "id": "gZzoReROxoAY",
        "outputId": "ac26fef4-6293-432e-c391-b81e17988500"
      },
      "execution_count": 50,
      "outputs": [
        {
          "output_type": "display_data",
          "data": {
            "text/plain": [
              "<Figure size 432x288 with 1 Axes>"
            ],
            "image/png": "[encoded data removed]"
          },
          "metadata": {}
        }
      ]
    }
  ]
}